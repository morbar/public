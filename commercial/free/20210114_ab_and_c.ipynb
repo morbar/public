{
 "cells": [
  {
   "cell_type": "markdown",
   "metadata": {},
   "source": [
    "The following program reads in a file called raw_data.csv\n",
    "\n",
    "date: datetime\n",
    "visitID: any format, will be converted to string on import\n",
    "deviceType: text\n",
    "channel: text\n",
    "experimentBucket: A or B\n",
    "maximumSavingsSeen: decimal\n",
    "switched: any format, will be changed to object\n",
    "\n",
    "You also need to define the bin boundaries in Stage 2.2 and hypothesis for Experiment C in Stage 7."
   ]
  },
  {
   "cell_type": "code",
   "execution_count": null,
   "metadata": {},
   "outputs": [],
   "source": [
    "# bin boundaries for Stage 2.2\n",
    "a = 100.0000000\n",
    "b = 200.0000000\n",
    "c = 300.0000000\n",
    "d = 400.0000000\n",
    "e = 500.0000000"
   ]
  },
  {
   "cell_type": "markdown",
   "metadata": {},
   "source": [
    "# 1. Import raw data, explore and normalise"
   ]
  },
  {
   "cell_type": "markdown",
   "metadata": {},
   "source": [
    "## 1.1. Import libraries and raw data, normalise raw data"
   ]
  },
  {
   "cell_type": "code",
   "execution_count": null,
   "metadata": {},
   "outputs": [],
   "source": [
    "import os\n",
    "import pandas as pd\n",
    "import numpy as np\n",
    "import scipy\n",
    "\n",
    "# pd.set_option('display.max_columns', None)\n",
    "pd.set_option('display.max_rows', None)\n",
    "\n",
    "# for boxplot\n",
    "from pylab import *\n",
    "\n",
    "# use the inline backend to generate the plots within the browser\n",
    "%matplotlib inline \n",
    "import matplotlib as mpl\n",
    "import matplotlib.pyplot as plt\n",
    "import matplotlib.cm as cm\n",
    "import matplotlib.colors as colors\n",
    "\n",
    "\n",
    "# import seaborn as sns\n",
    "# sns.set_style('whitegrid')cm as cm\n",
    "import matplotlib.colors as colors\n",
    "\n",
    "# import k-means from clustering stage\n",
    "from sklearn.cluster import KMeans\n",
    "\n",
    "# for identifying histogram bins - import after first matplotlib histogram\n",
    "# import seaborn as sns\n",
    "# sns.set_style('whitegrid')\n",
    "\n",
    "print('Libraries imported.')"
   ]
  },
  {
   "cell_type": "code",
   "execution_count": null,
   "metadata": {},
   "outputs": [],
   "source": [
    "# function to export a datafrane to a csv file within a new or existing directory\n",
    "\n",
    "def export_df_csvdir (df, exp_dir, exp_csv):\n",
    "    export_dir1 = './exports1'\n",
    "    if not os.path.exists(exp_dir):\n",
    "        os.mkdir(exp_dir)\n",
    "    exp_dir_csv = os.path.join(exp_dir, exp_csv)\n",
    "    df.to_csv (exp_dir_csv)\n",
    "       \n",
    "# function to export a datafrane to an Excel file and sheet within a new or existing directory\n",
    "\n",
    "def export_df_xlsdir (df, exp_dir, exp_xls, xls_sheet):\n",
    "    export_dir1 = './exports1'\n",
    "    if not os.path.exists(exp_dir):\n",
    "        os.mkdir(exp_dir)\n",
    "    exp_dir_xls = os.path.join(exp_dir, exp_xls)\n",
    "    df.to_excel (exp_dir_xls, sheet_name= xls_sheet) "
   ]
  },
  {
   "cell_type": "code",
   "execution_count": null,
   "metadata": {},
   "outputs": [],
   "source": [
    "# read in raw data, cast 'visitID' as object to ensure not summed, cast 'switched' as integer as required as flter\n",
    "all_visits_df = pd.read_csv('raw_data.csv', dtype={'visitID': object, 'switched': int})\n",
    "\n",
    "# drop index column as it is duplicate of 'visitID'\n",
    "all_visits_df.drop(columns = ['Unnamed: 0'], inplace = True)\n",
    "\n",
    "# add count\n",
    "all_visits_df ['totalVisits'] = 1\n",
    "\n",
    "# remove visits outside experiement buckets A & B\n",
    "all_ab_visits_df = all_visits_df [all_visits_df ['experimentBucket']!='None']"
   ]
  },
  {
   "cell_type": "code",
   "execution_count": null,
   "metadata": {},
   "outputs": [],
   "source": [
    "all_ab_visits_df.info()"
   ]
  },
  {
   "cell_type": "code",
   "execution_count": null,
   "metadata": {},
   "outputs": [],
   "source": [
    "all_ab_visits_df.head()"
   ]
  },
  {
   "cell_type": "markdown",
   "metadata": {},
   "source": [
    "## 2. Examine distribution of 'maximumSavingsSeen'"
   ]
  },
  {
   "cell_type": "markdown",
   "metadata": {},
   "source": [
    "## 2.1 Outliers"
   ]
  },
  {
   "cell_type": "code",
   "execution_count": null,
   "metadata": {},
   "outputs": [],
   "source": [
    "all_ab_visits_df['maximumSavingsSeen'].describe()"
   ]
  },
  {
   "cell_type": "code",
   "execution_count": null,
   "metadata": {},
   "outputs": [],
   "source": [
    "# show boxplot with outliers\n",
    "boxplot(all_ab_visits_df['maximumSavingsSeen']) #, showfliers=False)\n",
    "show()\n",
    "#sns.set_style('whitegrid')\n",
    "hist = all_ab_visits_df['maximumSavingsSeen'].hist(bins=1000)"
   ]
  },
  {
   "cell_type": "code",
   "execution_count": null,
   "metadata": {},
   "outputs": [],
   "source": [
    "all_ab_visits_df['z-score'] = scipy.stats.zscore(all_ab_visits_df['maximumSavingsSeen'])"
   ]
  },
  {
   "cell_type": "code",
   "execution_count": null,
   "metadata": {},
   "outputs": [],
   "source": [
    "all_ab_visits_df['z-score'] = np.abs(all_ab_visits_df['z-score'])"
   ]
  },
  {
   "cell_type": "code",
   "execution_count": null,
   "metadata": {},
   "outputs": [],
   "source": [
    "all_ab_visits_df.head()"
   ]
  },
  {
   "cell_type": "code",
   "execution_count": null,
   "metadata": {},
   "outputs": [],
   "source": [
    "all_ab_visits_df['outlier'] = all_ab_visits_df['z-score'].apply(lambda x: False if x < 3 else True) "
   ]
  },
  {
   "cell_type": "code",
   "execution_count": null,
   "metadata": {},
   "outputs": [],
   "source": [
    "all_ab_visits_df.head()"
   ]
  },
  {
   "cell_type": "code",
   "execution_count": null,
   "metadata": {},
   "outputs": [],
   "source": [
    "all_ab_visits_no_outliers_df = all_ab_visits_df[all_ab_visits_df['outlier'] == False]"
   ]
  },
  {
   "cell_type": "code",
   "execution_count": null,
   "metadata": {},
   "outputs": [],
   "source": [
    "all_ab_visits_no_outliers_df.info()"
   ]
  },
  {
   "cell_type": "code",
   "execution_count": null,
   "metadata": {},
   "outputs": [],
   "source": [
    "# NOTE: have chosen not to filter out negative maximumSavingsSeen as there may be rises in wholesale prices for example\n",
    "# all_ab_visits_no_outliers_df = all_ab_visits_df[all_ab_visits_df['maximumSavingsSeen'] > 0]"
   ]
  },
  {
   "cell_type": "markdown",
   "metadata": {},
   "source": [
    "## 2.2 Binning"
   ]
  },
  {
   "cell_type": "code",
   "execution_count": null,
   "metadata": {},
   "outputs": [],
   "source": [
    "import seaborn as sns\n",
    "\n",
    "sns.set_style('whitegrid')\n",
    "\n",
    "all_ab_visits_no_outliers_df['maximumSavingsSeen'].plot(kind='hist')"
   ]
  },
  {
   "cell_type": "code",
   "execution_count": null,
   "metadata": {},
   "outputs": [],
   "source": [
    "all_ab_visits_no_outliers_df['maximumSavingsSeen'].describe()"
   ]
  },
  {
   "cell_type": "code",
   "execution_count": null,
   "metadata": {},
   "outputs": [],
   "source": [
    "hist = all_ab_visits_no_outliers_df['maximumSavingsSeen'].hist(bins=5)"
   ]
  },
  {
   "cell_type": "code",
   "execution_count": null,
   "metadata": {},
   "outputs": [],
   "source": [
    "def bin (amount):\n",
    "    if amount < a:\n",
    "        return \"bin1\"\n",
    "    elif amount < b:\n",
    "        return \"bin2\"\n",
    "    elif amount < c:\n",
    "        return \"bin3\"\n",
    "    elif amount < d:\n",
    "        return \"bin4\"\n",
    "    elif amount < e:\n",
    "        return \"bin5\"\n",
    "    \n",
    "all_ab_visits_no_outliers_df['bin'] = all_ab_visits_no_outliers_df.apply \\\n",
    "                    (lambda x: bin(x['maximumSavingsSeen']),axis=1)"
   ]
  },
  {
   "cell_type": "code",
   "execution_count": null,
   "metadata": {},
   "outputs": [],
   "source": [
    "all_ab_visits_no_outliers_df.head(5)"
   ]
  },
  {
   "cell_type": "markdown",
   "metadata": {},
   "source": [
    "# 3. Normalisation"
   ]
  },
  {
   "cell_type": "code",
   "execution_count": null,
   "metadata": {},
   "outputs": [],
   "source": [
    "all_ab_visits_no_outliers_df['visitType'] = all_ab_visits_no_outliers_df['deviceType'] + '-' +\\\n",
    "                                            all_ab_visits_no_outliers_df['channel'] + '-' +\\\n",
    "                                            all_ab_visits_no_outliers_df['bin']"
   ]
  },
  {
   "cell_type": "code",
   "execution_count": null,
   "metadata": {},
   "outputs": [],
   "source": [
    "all_ab_visits_no_outliers_df.head(5)"
   ]
  },
  {
   "cell_type": "code",
   "execution_count": null,
   "metadata": {},
   "outputs": [],
   "source": [
    "all_ab_visits_no_outliers_df.drop(columns = ['outlier'], inplace = True)\n",
    "all_ab_visits_no_outliers_df.drop(columns = ['z-score'], inplace = True)"
   ]
  },
  {
   "cell_type": "code",
   "execution_count": null,
   "metadata": {},
   "outputs": [],
   "source": [
    "all_ab_visits_no_outliers_df['actualSavings'] = all_ab_visits_no_outliers_df ['maximumSavingsSeen'] *\\\n",
    "                                                all_ab_visits_no_outliers_df ['switched']"
   ]
  },
  {
   "cell_type": "code",
   "execution_count": null,
   "metadata": {},
   "outputs": [],
   "source": [
    "all_ab_visits_no_outliers_df.head(20)"
   ]
  },
  {
   "cell_type": "markdown",
   "metadata": {},
   "source": [
    "# 4. Create KPI lookup table for visit types"
   ]
  },
  {
   "cell_type": "code",
   "execution_count": null,
   "metadata": {},
   "outputs": [],
   "source": [
    "all_a_visits_df = all_ab_visits_no_outliers_df [all_ab_visits_no_outliers_df ['experimentBucket'] == 'A' ]\n",
    "all_b_visits_df = all_ab_visits_no_outliers_df [all_ab_visits_no_outliers_df ['experimentBucket'] == 'B' ]"
   ]
  },
  {
   "cell_type": "code",
   "execution_count": null,
   "metadata": {},
   "outputs": [],
   "source": [
    "#all_a_visits_df.info()"
   ]
  },
  {
   "cell_type": "code",
   "execution_count": null,
   "metadata": {},
   "outputs": [],
   "source": [
    "#all_b_visits_df.info()"
   ]
  },
  {
   "cell_type": "code",
   "execution_count": null,
   "metadata": {},
   "outputs": [],
   "source": [
    "lookup_table_a_df = all_a_visits_df.groupby(['visitType']).sum()\n",
    "lookup_table_a_df['converted'] = lookup_table_a_df['switched'] / lookup_table_a_df['totalVisits']\n",
    "lookup_table_a_df"
   ]
  },
  {
   "cell_type": "code",
   "execution_count": null,
   "metadata": {},
   "outputs": [],
   "source": [
    "print (lookup_table_a_df ['totalVisits'].sum())\n",
    "print (lookup_table_a_df ['switched'].sum())\n",
    "print (lookup_table_a_df ['switched'].sum()/lookup_table_a_df ['totalVisits'].sum())\n",
    "print (lookup_table_a_df ['actualSavings'].sum())\n"
   ]
  },
  {
   "cell_type": "code",
   "execution_count": null,
   "metadata": {},
   "outputs": [],
   "source": []
  },
  {
   "cell_type": "code",
   "execution_count": null,
   "metadata": {},
   "outputs": [],
   "source": [
    "lookup_table_b_df = all_b_visits_df.groupby(['visitType']).sum()\n",
    "lookup_table_b_df['converted'] = lookup_table_b_df['switched'] / lookup_table_b_df['totalVisits']\n",
    "lookup_table_b_df"
   ]
  },
  {
   "cell_type": "code",
   "execution_count": null,
   "metadata": {},
   "outputs": [],
   "source": [
    "print (lookup_table_b_df ['totalVisits'].sum())\n",
    "print (lookup_table_b_df ['switched'].sum())\n",
    "print (lookup_table_b_df ['switched'].sum()/lookup_table_b_df ['totalVisits'].sum())\n",
    "print (lookup_table_b_df ['actualSavings'].sum())"
   ]
  },
  {
   "cell_type": "code",
   "execution_count": null,
   "metadata": {},
   "outputs": [],
   "source": [
    "lookup_table_df = lookup_table_a_df.merge(lookup_table_b_df, how = 'left', on = 'visitType')"
   ]
  },
  {
   "cell_type": "code",
   "execution_count": null,
   "metadata": {},
   "outputs": [],
   "source": [
    "lookup_table_df.head()"
   ]
  },
  {
   "cell_type": "code",
   "execution_count": null,
   "metadata": {},
   "outputs": [],
   "source": [
    "lookup_table_df.rename(columns={'maximumSavingsSeen_x': 'maximumSavingsSeen_A',\\\n",
    "                                'switched_x' : 'switched_A',\\\n",
    "                                'totalVisits_x' : 'totalVisits_A',\\\n",
    "                                'actualSavings_x' : 'actualSavings_A',\\\n",
    "                                'converted_x' : 'converted_A',\\\n",
    "                                'maximumSavingsSeen_y' : 'maximumSavingsSeen_B',\\\n",
    "                                'switched_y' : 'switched_B',\\\n",
    "                                'totalVisits_y' : 'totalVisits_B',\\\n",
    "                                'actualSavings_y' : 'actualSavings_B',\\\n",
    "                                'converted_y' : 'converted_B'\n",
    "                                }, inplace = True)"
   ]
  },
  {
   "cell_type": "code",
   "execution_count": null,
   "metadata": {},
   "outputs": [],
   "source": [
    "lookup_table_df.head()"
   ]
  },
  {
   "cell_type": "code",
   "execution_count": null,
   "metadata": {},
   "outputs": [],
   "source": [
    "lookup_table_df.drop(columns = ['maximumSavingsSeen_A',\\\n",
    "                                'switched_A',\\\n",
    "                                'totalVisits_A',\\\n",
    "                                'actualSavings_A',\\\n",
    "                                'maximumSavingsSeen_B',\\\n",
    "                                'switched_B',\\\n",
    "                                'totalVisits_B',\\\n",
    "                                'actualSavings_B'], inplace = True)"
   ]
  },
  {
   "cell_type": "code",
   "execution_count": null,
   "metadata": {},
   "outputs": [],
   "source": [
    "lookup_table_df"
   ]
  },
  {
   "cell_type": "markdown",
   "metadata": {},
   "source": [
    "# 5. Model conversion rates for website A & website B"
   ]
  },
  {
   "cell_type": "code",
   "execution_count": null,
   "metadata": {},
   "outputs": [],
   "source": [
    "all_ab_visits_no_outliers_df.head()"
   ]
  },
  {
   "cell_type": "code",
   "execution_count": null,
   "metadata": {},
   "outputs": [],
   "source": [
    "summarised_visits_df = all_ab_visits_no_outliers_df.groupby(['visitType']).sum()\n",
    "\n",
    "summarised_visits_df.drop(columns = ['switched', 'actualSavings'], inplace = True)\n",
    "\n",
    "summarised_visits_df"
   ]
  },
  {
   "cell_type": "code",
   "execution_count": null,
   "metadata": {},
   "outputs": [],
   "source": [
    "summarised_visits_with_lookup_table_df = summarised_visits_df.merge(lookup_table_df, how = 'left', on ='visitType')\n",
    "summarised_visits_with_lookup_table_df.head()"
   ]
  },
  {
   "cell_type": "code",
   "execution_count": null,
   "metadata": {},
   "outputs": [],
   "source": [
    "summarised_visits_with_lookup_table_df ['predicted_converted_A'] = \\\n",
    "        summarised_visits_with_lookup_table_df ['totalVisits'] *\\\n",
    "        summarised_visits_with_lookup_table_df ['converted_A']\n",
    "\n",
    "summarised_visits_with_lookup_table_df ['predicted_converted_B'] = \\\n",
    "        summarised_visits_with_lookup_table_df ['totalVisits'] *\\\n",
    "        summarised_visits_with_lookup_table_df ['converted_B']\n",
    "\n",
    "summarised_visits_with_lookup_table_df ['predicted_actual_savings_A'] = \\\n",
    "        summarised_visits_with_lookup_table_df ['maximumSavingsSeen'] *\\\n",
    "        summarised_visits_with_lookup_table_df ['converted_A']\n",
    "\n",
    "summarised_visits_with_lookup_table_df ['predicted_actual_savings_B'] = \\\n",
    "        summarised_visits_with_lookup_table_df ['maximumSavingsSeen'] *\\\n",
    "        summarised_visits_with_lookup_table_df ['converted_B']\n"
   ]
  },
  {
   "cell_type": "code",
   "execution_count": null,
   "metadata": {},
   "outputs": [],
   "source": [
    "summarised_visits_with_lookup_table_df.head()"
   ]
  },
  {
   "cell_type": "code",
   "execution_count": null,
   "metadata": {},
   "outputs": [],
   "source": [
    "print (summarised_visits_with_lookup_table_df ['totalVisits'].sum())"
   ]
  },
  {
   "cell_type": "code",
   "execution_count": null,
   "metadata": {},
   "outputs": [],
   "source": [
    "total_visits = summarised_visits_with_lookup_table_df ['totalVisits'].sum()\n",
    "print (summarised_visits_with_lookup_table_df ['predicted_actual_savings_A'].sum())\n",
    "print (summarised_visits_with_lookup_table_df ['predicted_converted_A'].sum())\n",
    "print (summarised_visits_with_lookup_table_df ['predicted_converted_A'].sum()/total_visits)\n",
    "print ()\n",
    "print (summarised_visits_with_lookup_table_df ['predicted_actual_savings_B'].sum())\n",
    "print (summarised_visits_with_lookup_table_df ['predicted_converted_B'].sum())\n",
    "print (summarised_visits_with_lookup_table_df ['predicted_converted_B'].sum()/total_visits)"
   ]
  },
  {
   "cell_type": "markdown",
   "metadata": {},
   "source": [
    "# 6. Explore possibility of a website C"
   ]
  },
  {
   "cell_type": "code",
   "execution_count": null,
   "metadata": {},
   "outputs": [],
   "source": [
    "device_analysis_df = all_ab_visits_no_outliers_df.groupby(['experimentBucket','deviceType']).sum()\n",
    "device_analysis_df ['converted'] = device_analysis_df ['switched'] / device_analysis_df ['totalVisits']\n",
    "device_analysis_df"
   ]
  },
  {
   "cell_type": "code",
   "execution_count": null,
   "metadata": {},
   "outputs": [],
   "source": [
    "channel_analysis_df = all_ab_visits_no_outliers_df.groupby(['experimentBucket','channel']).sum()\n",
    "channel_analysis_df ['converted'] = channel_analysis_df ['switched'] / channel_analysis_df ['totalVisits']\n",
    "channel_analysis_df"
   ]
  },
  {
   "cell_type": "code",
   "execution_count": null,
   "metadata": {},
   "outputs": [],
   "source": [
    "bin_analysis_df = all_ab_visits_no_outliers_df.groupby(['experimentBucket','bin']).sum()\n",
    "bin_analysis_df ['converted'] = bin_analysis_df ['switched'] / bin_analysis_df ['totalVisits']\n",
    "bin_analysis_df"
   ]
  },
  {
   "cell_type": "markdown",
   "metadata": {},
   "source": [
    "# 7. Experiment C"
   ]
  },
  {
   "cell_type": "code",
   "execution_count": null,
   "metadata": {},
   "outputs": [],
   "source": [
    "# Experiment C is an experimental website with the UI's of desktop A and mobile/tablet B"
   ]
  },
  {
   "cell_type": "code",
   "execution_count": null,
   "metadata": {},
   "outputs": [],
   "source": [
    "# the following is an example for websites which are not just responsive and which have a good website A for desktop\n",
    "\n",
    "summarised_visits_with_lookup_table_df['visitType'] = summarised_visits_with_lookup_table_df.index\n",
    "\n",
    "summarised_visits_with_lookup_table_df['use_A'] = \\\n",
    "                     summarised_visits_with_lookup_table_df['visitType'].apply(lambda x: 1 if 'desktop' in x  else 0)\n",
    "\n",
    "summarised_visits_with_lookup_table_df['use_B'] = \\\n",
    "                     summarised_visits_with_lookup_table_df['visitType'].apply(lambda x: 1 if 'desktop' not in x  else 0)"
   ]
  },
  {
   "cell_type": "code",
   "execution_count": null,
   "metadata": {},
   "outputs": [],
   "source": [
    "summarised_visits_with_lookup_table_df.head()"
   ]
  },
  {
   "cell_type": "code",
   "execution_count": null,
   "metadata": {},
   "outputs": [],
   "source": [
    "summarised_visits_with_lookup_table_df['converted_C'] = \\\n",
    "                summarised_visits_with_lookup_table_df['converted_A'] * summarised_visits_with_lookup_table_df['use_A'] +\\\n",
    "                summarised_visits_with_lookup_table_df['converted_B'] * summarised_visits_with_lookup_table_df['use_B'] "
   ]
  },
  {
   "cell_type": "code",
   "execution_count": null,
   "metadata": {
    "scrolled": false
   },
   "outputs": [],
   "source": [
    "summarised_visits_with_lookup_table_df.head()"
   ]
  },
  {
   "cell_type": "code",
   "execution_count": null,
   "metadata": {},
   "outputs": [],
   "source": [
    "summarised_visits_with_lookup_table_df ['predicted_converted_C'] = \\\n",
    "        summarised_visits_with_lookup_table_df ['totalVisits'] *\\\n",
    "        summarised_visits_with_lookup_table_df ['converted_C']\n",
    "\n",
    "summarised_visits_with_lookup_table_df ['predicted_actual_savings_C'] = \\\n",
    "        summarised_visits_with_lookup_table_df ['maximumSavingsSeen'] *\\\n",
    "        summarised_visits_with_lookup_table_df ['converted_C']\n"
   ]
  },
  {
   "cell_type": "code",
   "execution_count": null,
   "metadata": {},
   "outputs": [],
   "source": [
    "total_visits = summarised_visits_with_lookup_table_df ['totalVisits'].sum()\n",
    "print (summarised_visits_with_lookup_table_df ['totalVisits'].sum())\n",
    "print (summarised_visits_with_lookup_table_df ['predicted_actual_savings_C'].sum())\n",
    "print (summarised_visits_with_lookup_table_df ['predicted_converted_C'].sum())\n",
    "print (summarised_visits_with_lookup_table_df ['predicted_converted_C'].sum()/total_visits)"
   ]
  }
 ],
 "metadata": {
  "kernelspec": {
   "display_name": "Python 3",
   "language": "python",
   "name": "python3"
  },
  "language_info": {
   "codemirror_mode": {
    "name": "ipython",
    "version": 3
   },
   "file_extension": ".py",
   "mimetype": "text/x-python",
   "name": "python",
   "nbconvert_exporter": "python",
   "pygments_lexer": "ipython3",
   "version": "3.7.3"
  }
 },
 "nbformat": 4,
 "nbformat_minor": 2
}
